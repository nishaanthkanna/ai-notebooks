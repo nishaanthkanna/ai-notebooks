{
 "cells": [
  {
   "cell_type": "code",
   "execution_count": 1,
   "metadata": {},
   "outputs": [],
   "source": [
    "import tensorflow as tf"
   ]
  },
  {
   "cell_type": "markdown",
   "metadata": {},
   "source": [
    "# AlexNet\n",
    "![AlexNet](https://miro.medium.com/max/1200/1*3B8iO-se13vA2QfZ4OBRSw.png)\n",
    "\n",
    "*The dimensions of the final Fully connected layers have been modified since AlexNet was designed for ImageNet (227x227x3) images but CIFAR10 has 32x32x3 images."
   ]
  },
  {
   "cell_type": "code",
   "execution_count": 2,
   "metadata": {},
   "outputs": [],
   "source": [
    "class AlexNet(tf.keras.Model):\n",
    "    def __init__(self):\n",
    "        super().__init__()\n",
    "        \n",
    "        \n",
    "        self.conv1 = tf.keras.layers.Conv2D(filters=96, kernel_size=11, strides=1, activation=\"relu\")\n",
    "        self.maxpool = tf.keras.layers.MaxPool2D(pool_size=3, strides=2)\n",
    "\n",
    "        self.conv2 = tf.keras.layers.Conv2D(filters=256, kernel_size=5, padding=\"same\", activation=\"relu\")\n",
    "\n",
    "        self.conv3 = tf.keras.layers.Conv2D(filters=384, kernel_size=3, padding=\"same\", activation=\"relu\")\n",
    "        self.conv4 = tf.keras.layers.Conv2D(filters=384, kernel_size=3, padding=\"same\", activation=\"relu\")\n",
    "        self.conv5 = tf.keras.layers.Conv2D(filters=256, kernel_size=3, padding=\"same\", activation=\"relu\")\n",
    "\n",
    "        self.flatten = tf.keras.layers.Flatten()\n",
    "        self.linear1 = tf.keras.layers.Dense(128, activation=\"relu\")\n",
    "        self.linear2 = tf.keras.layers.Dense(128, activation=\"relu\")\n",
    "        self.linear3 = tf.keras.layers.Dense(10, activation=\"softmax\")\n",
    "\n",
    "    def __call__(self, inputs, training=False):\n",
    "\n",
    "        x = self.conv1(inputs[\"image\"])\n",
    "        x = self.maxpool(x)\n",
    "\n",
    "        x = self.conv2(x)\n",
    "        x = self.maxpool(x)\n",
    "\n",
    "        x = self.conv3(x)\n",
    "        x = self.conv4(x)\n",
    "        x = self.conv5(x)\n",
    "        x = self.maxpool(x)\n",
    "\n",
    "        x = self.flatten(x)\n",
    "        x = self.linear1(x)\n",
    "        x = self.linear2(x)\n",
    "        probs = self.linear3(x)\n",
    "\n",
    "        return probs\n",
    "        \n"
   ]
  },
  {
   "cell_type": "code",
   "execution_count": 3,
   "metadata": {},
   "outputs": [],
   "source": [
    "(x_train, y_train), (x_test, y_test) = tf.keras.datasets.cifar10.load_data()\n",
    "x_train = x_train.astype('float32')\n",
    "x_test = x_test.astype('float32')\n",
    "y_train = tf.keras.utils.to_categorical(y_train)\n",
    "y_test = tf.keras.utils.to_categorical(y_test)"
   ]
  },
  {
   "cell_type": "code",
   "execution_count": 4,
   "metadata": {},
   "outputs": [
    {
     "name": "stderr",
     "output_type": "stream",
     "text": [
      "2022-11-12 15:09:32.373279: I tensorflow/core/common_runtime/pluggable_device/pluggable_device_factory.cc:306] Could not identify NUMA node of platform GPU ID 0, defaulting to 0. Your kernel may not have been built with NUMA support.\n",
      "2022-11-12 15:09:32.373369: I tensorflow/core/common_runtime/pluggable_device/pluggable_device_factory.cc:272] Created TensorFlow device (/job:localhost/replica:0/task:0/device:GPU:0 with 0 MB memory) -> physical PluggableDevice (device: 0, name: METAL, pci bus id: <undefined>)\n"
     ]
    },
    {
     "name": "stdout",
     "output_type": "stream",
     "text": [
      "Metal device set to: Apple M1\n",
      "\n",
      "systemMemory: 8.00 GB\n",
      "maxCacheSize: 2.67 GB\n",
      "\n",
      "Epoch 1/10\n"
     ]
    },
    {
     "name": "stderr",
     "output_type": "stream",
     "text": [
      "2022-11-12 15:09:33.422230: W tensorflow/core/platform/profile_utils/cpu_utils.cc:128] Failed to get CPU frequency: 0 Hz\n",
      "2022-11-12 15:09:34.029957: I tensorflow/core/grappler/optimizers/custom_graph_optimizer_registry.cc:114] Plugin optimizer for device_type GPU is enabled.\n"
     ]
    },
    {
     "name": "stdout",
     "output_type": "stream",
     "text": [
      "1563/1563 [==============================] - 54s 33ms/step - loss: 1.7303 - mean_absolute_error: 0.1485 - accuracy: 0.3720\n",
      "Epoch 2/10\n",
      "1563/1563 [==============================] - 52s 33ms/step - loss: 1.4123 - mean_absolute_error: 0.1269 - accuracy: 0.4985\n",
      "Epoch 3/10\n",
      "1563/1563 [==============================] - 57s 36ms/step - loss: 1.2467 - mean_absolute_error: 0.1134 - accuracy: 0.5622\n",
      "Epoch 4/10\n",
      "1563/1563 [==============================] - 57s 37ms/step - loss: 1.1168 - mean_absolute_error: 0.1025 - accuracy: 0.6103\n",
      "Epoch 5/10\n",
      "1563/1563 [==============================] - 69s 44ms/step - loss: 0.9915 - mean_absolute_error: 0.0922 - accuracy: 0.6549\n",
      "Epoch 6/10\n",
      "1563/1563 [==============================] - 64s 41ms/step - loss: 0.8768 - mean_absolute_error: 0.0824 - accuracy: 0.6923\n",
      "Epoch 7/10\n",
      "1563/1563 [==============================] - 67s 43ms/step - loss: 0.7575 - mean_absolute_error: 0.0723 - accuracy: 0.7334\n",
      "Epoch 8/10\n",
      "1563/1563 [==============================] - 64s 41ms/step - loss: 0.6490 - mean_absolute_error: 0.0627 - accuracy: 0.7706\n",
      "Epoch 9/10\n",
      "1563/1563 [==============================] - 65s 41ms/step - loss: 0.5332 - mean_absolute_error: 0.0520 - accuracy: 0.8125\n",
      "Epoch 10/10\n",
      "1563/1563 [==============================] - 65s 42ms/step - loss: 0.4482 - mean_absolute_error: 0.0440 - accuracy: 0.8416\n"
     ]
    },
    {
     "data": {
      "text/plain": [
       "<keras.callbacks.History at 0x16c3ea830>"
      ]
     },
     "execution_count": 4,
     "metadata": {},
     "output_type": "execute_result"
    }
   ],
   "source": [
    "model = AlexNet()\n",
    "\n",
    "model.compile(optimizer=tf.keras.optimizers.Adam(learning_rate=3e-4), loss=[\"categorical_crossentropy\"], metrics=[[\"mean_absolute_error\"], [\"accuracy\"]])\n",
    "model.fit({\n",
    "    \"image\": x_train\n",
    "}, y_train, epochs=10)"
   ]
  },
  {
   "cell_type": "code",
   "execution_count": null,
   "metadata": {},
   "outputs": [],
   "source": []
  }
 ],
 "metadata": {
  "kernelspec": {
   "display_name": "Python 3.10.8 64-bit",
   "language": "python",
   "name": "python3"
  },
  "language_info": {
   "codemirror_mode": {
    "name": "ipython",
    "version": 3
   },
   "file_extension": ".py",
   "mimetype": "text/x-python",
   "name": "python",
   "nbconvert_exporter": "python",
   "pygments_lexer": "ipython3",
   "version": "3.10.8"
  },
  "orig_nbformat": 4,
  "vscode": {
   "interpreter": {
    "hash": "b0fa6594d8f4cbf19f97940f81e996739fb7646882a419484c72d19e05852a7e"
   }
  }
 },
 "nbformat": 4,
 "nbformat_minor": 2
}
