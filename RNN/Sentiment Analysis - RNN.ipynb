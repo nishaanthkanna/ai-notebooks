{
 "cells": [
  {
   "cell_type": "code",
   "execution_count": 1,
   "metadata": {},
   "outputs": [],
   "source": [
    "import torch\n",
    "from torch import nn\n",
    "import torchtext\n",
    "from torch.utils.data import DataLoader\n",
    "from torchtext.datasets import IMDB\n",
    "from torchtext.data.utils import get_tokenizer\n",
    "from torch.utils.data import DataLoader, BatchSampler, RandomSampler\n",
    "import pandas as pd\n",
    "import numpy as np\n",
    "import re\n",
    "import tqdm"
   ]
  },
  {
   "cell_type": "code",
   "execution_count": 2,
   "metadata": {},
   "outputs": [
    {
     "name": "stderr",
     "output_type": "stream",
     "text": [
      "/opt/homebrew/Cellar/python@3.10/3.10.8/Frameworks/Python.framework/Versions/3.10/lib/python3.10/site-packages/torchtext/data/utils.py:105: UserWarning: Spacy model \"en\" could not be loaded, trying \"en_core_web_sm\" instead\n",
      "  warnings.warn(\n"
     ]
    }
   ],
   "source": [
    "train_data = IMDB(root=\"data\", split=\"train\")\n",
    "tokenizer = get_tokenizer('spacy')\n",
    "embed = torchtext.vocab.GloVe(\"6B\", 100)"
   ]
  },
  {
   "cell_type": "code",
   "execution_count": 3,
   "metadata": {},
   "outputs": [],
   "source": [
    "def yield_tokens(data_iter):\n",
    "    for _, text in data_iter:\n",
    "        yield tokenizer(text)\n",
    "\n",
    "vocab = torchtext.vocab.build_vocab_from_iterator(yield_tokens(train_data), specials=[\"<unk>\"])\n",
    "vocab.set_default_index(vocab[\"<unk>\"])"
   ]
  },
  {
   "cell_type": "code",
   "execution_count": 4,
   "metadata": {},
   "outputs": [],
   "source": [
    "text_pipeline = lambda x: vocab(tokenizer(x))"
   ]
  },
  {
   "cell_type": "code",
   "execution_count": 5,
   "metadata": {},
   "outputs": [],
   "source": [
    "from torch.utils.data import DataLoader\n",
    "device = torch.device(\"cuda\" if torch.cuda.is_available() else \"cpu\")\n",
    "\n",
    "def collate_batch(batch):\n",
    "     label_list, text_list = [], []\n",
    "     for (_label, _text) in batch:\n",
    "          label_list.append(_label)\n",
    "          p_text = torch.tensor(text_pipeline(_text.lower()), dtype=torch.int64)\n",
    "          text_list.append(p_text)\n",
    "     text_list = torch.nn.utils.rnn.pad_sequence(text_list, batch_first=True)\n",
    "     label_list = torch.tensor(label_list, dtype=torch.float32).reshape(-1, 1)\n",
    "     return label_list.to(device), text_list.to(device)\n"
   ]
  },
  {
   "cell_type": "code",
   "execution_count": 6,
   "metadata": {},
   "outputs": [],
   "source": [
    "class SentTM(nn.Module):\n",
    "    def __init__(self, embedding_vector) -> None:\n",
    "        super(SentTM, self).__init__()\n",
    "\n",
    "        self.embed = torch.nn.Embedding.from_pretrained(embedding_vector, freeze=True)\n",
    "\n",
    "        self.rnn = nn.LSTM(input_size=100, hidden_size=100, num_layers=2, batch_first=True, bidirectional=True)\n",
    "        self.relu = nn.ReLU()\n",
    "        self.fc1 = nn.Linear(2*100, 1)\n",
    "        self.sigmoid = nn.Sigmoid()\n",
    "\n",
    "    def forward(self, x):\n",
    "        x = self.embed(x)\n",
    "        \n",
    "        _, (hidden,_) = self.rnn(x)\n",
    "\n",
    "        # Picking only the values of the forward and backward layer(bidirectional) of hidden output\n",
    "        hidden = torch.cat((hidden[-2,:,:], hidden[-1,:,:]), dim = -1)\n",
    "        logits = self.fc1(hidden)\n",
    "\n",
    "        probs = self.sigmoid(logits)\n",
    "\n",
    "        return logits, probs"
   ]
  },
  {
   "cell_type": "code",
   "execution_count": 7,
   "metadata": {},
   "outputs": [],
   "source": [
    "model = SentTM(embed.vectors).to(device)\n",
    "loss_fn = nn.BCEWithLogitsLoss().to(device)\n",
    "optim = torch.optim.Adam(model.parameters(), lr=1e-4)\n",
    "batch_size = 64\n",
    "train_iter = IMDB(split='train')\n",
    "dataloader = DataLoader(train_iter, batch_size=batch_size, shuffle=True, collate_fn=collate_batch)"
   ]
  },
  {
   "cell_type": "code",
   "execution_count": 9,
   "metadata": {},
   "outputs": [
    {
     "name": "stderr",
     "output_type": "stream",
     "text": [
      "47it [12:34, 17.89s/it]"
     ]
    }
   ],
   "source": [
    "model.train()\n",
    "total_acc, total_count = 0, 0\n",
    "log_interval = 10\n",
    "epoch = 0\n",
    "acc = []\n",
    "l = []\n",
    "for idx, (label, text) in enumerate(tqdm.tqdm(dataloader)):\n",
    "    \n",
    "    optim.zero_grad()\n",
    "    # forward pass\n",
    "    logits, probs = model(text)\n",
    "\n",
    "    # Compute loss\n",
    "    loss = loss_fn(logits, label)\n",
    "    loss.backward()\n",
    "    optim.step()\n",
    "    total_acc = (probs.round() == label).sum().item()\n",
    "    acc.append(total_acc)\n",
    "    l.append(loss.item())\n",
    "    \n"
   ]
  },
  {
   "cell_type": "code",
   "execution_count": null,
   "metadata": {},
   "outputs": [],
   "source": [
    "import matplotlib.pyplot as plt\n",
    "plt.plot(acc)\n",
    "plt.plot(l)\n",
    "plt.show()"
   ]
  },
  {
   "cell_type": "code",
   "execution_count": null,
   "metadata": {},
   "outputs": [],
   "source": []
  }
 ],
 "metadata": {
  "kernelspec": {
   "display_name": "Python 3.10.8 64-bit",
   "language": "python",
   "name": "python3"
  },
  "language_info": {
   "codemirror_mode": {
    "name": "ipython",
    "version": 3
   },
   "file_extension": ".py",
   "mimetype": "text/x-python",
   "name": "python",
   "nbconvert_exporter": "python",
   "pygments_lexer": "ipython3",
   "version": "3.10.8"
  },
  "orig_nbformat": 4,
  "vscode": {
   "interpreter": {
    "hash": "6ecdebf77f2ee3a47348d003f751c63e810ca996c1c68d1179f338200fa83b34"
   }
  }
 },
 "nbformat": 4,
 "nbformat_minor": 2
}
