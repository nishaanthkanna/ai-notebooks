{
 "cells": [
  {
   "cell_type": "code",
   "execution_count": 1,
   "metadata": {},
   "outputs": [],
   "source": [
    "import tensorflow as tf"
   ]
  },
  {
   "cell_type": "markdown",
   "metadata": {},
   "source": [
    "# LeNet-5\n",
    "![LeNet-5](https://cdn.analyticsvidhya.com/wp-content/uploads/2021/03/Screenshot-from-2021-03-18-12-52-17.png)\n",
    "\n",
    "*We are multiplying all the channels and number of neurons by 3, since the first LeNet was built on grayscale images and CIFAR10 is RGB.*"
   ]
  },
  {
   "cell_type": "code",
   "execution_count": 2,
   "metadata": {},
   "outputs": [],
   "source": [
    "class LeNet5(tf.keras.Model):\n",
    "    def __init__(self):\n",
    "        super().__init__()\n",
    "        \n",
    "\n",
    "        self.conv1 = tf.keras.layers.Conv2D(filters=18, kernel_size=5, strides=1, activation=\"tanh\")\n",
    "        self.avgpool1 = tf.keras.layers.AveragePooling2D(pool_size=2)\n",
    "\n",
    "        self.conv2 = tf.keras.layers.Conv2D(filters=48, kernel_size=5, strides=1, activation=\"tanh\")\n",
    "        self.avgpool2 = tf.keras.layers.AveragePooling2D(pool_size=2)\n",
    "\n",
    "        self.conv3 = tf.keras.layers.Conv2D(filters=360, kernel_size=5, strides=1, activation=\"tanh\")\n",
    "\n",
    "        self.flatten = tf.keras.layers.Flatten()\n",
    "\n",
    "        self.linear1 = tf.keras.layers.Dense(units=360, activation=\"tanh\")\n",
    "        self.linear2 = tf.keras.layers.Dense(units=252, activation=\"tanh\")\n",
    "        self.linear3 = tf.keras.layers.Dense(units=10, activation=\"softmax\")\n",
    "\n",
    "    def __call__(self, inputs, training=False):\n",
    "\n",
    "        x = self.conv1(inputs['image'])\n",
    "        x = self.avgpool1(x)\n",
    "\n",
    "        x = self.conv2(x)\n",
    "        x = self.avgpool2(x)\n",
    "\n",
    "        x = self.conv3(x)\n",
    "\n",
    "        flat = self.flatten(x)\n",
    "        x = self.linear1(flat)\n",
    "        x = self.linear2(x)\n",
    "        output = self.linear3(x)\n",
    "\n",
    "        return output\n"
   ]
  },
  {
   "cell_type": "code",
   "execution_count": 3,
   "metadata": {},
   "outputs": [],
   "source": [
    "(x_train, y_train), (x_test, y_test) = tf.keras.datasets.cifar10.load_data()"
   ]
  },
  {
   "cell_type": "code",
   "execution_count": 4,
   "metadata": {},
   "outputs": [],
   "source": [
    "x_train = x_train.astype('float32')\n",
    "x_test = x_test.astype('float32')"
   ]
  },
  {
   "cell_type": "code",
   "execution_count": 5,
   "metadata": {},
   "outputs": [],
   "source": [
    "y_train = tf.keras.utils.to_categorical(y_train)\n",
    "y_test = tf.keras.utils.to_categorical(y_test)"
   ]
  },
  {
   "cell_type": "code",
   "execution_count": 6,
   "metadata": {},
   "outputs": [
    {
     "name": "stderr",
     "output_type": "stream",
     "text": [
      "2022-11-12 15:20:20.239023: I tensorflow/core/common_runtime/pluggable_device/pluggable_device_factory.cc:306] Could not identify NUMA node of platform GPU ID 0, defaulting to 0. Your kernel may not have been built with NUMA support.\n",
      "2022-11-12 15:20:20.239254: I tensorflow/core/common_runtime/pluggable_device/pluggable_device_factory.cc:272] Created TensorFlow device (/job:localhost/replica:0/task:0/device:GPU:0 with 0 MB memory) -> physical PluggableDevice (device: 0, name: METAL, pci bus id: <undefined>)\n"
     ]
    },
    {
     "name": "stdout",
     "output_type": "stream",
     "text": [
      "Metal device set to: Apple M1\n",
      "\n",
      "systemMemory: 8.00 GB\n",
      "maxCacheSize: 2.67 GB\n",
      "\n",
      "Epoch 1/10\n"
     ]
    },
    {
     "name": "stderr",
     "output_type": "stream",
     "text": [
      "2022-11-12 15:20:21.514168: W tensorflow/core/platform/profile_utils/cpu_utils.cc:128] Failed to get CPU frequency: 0 Hz\n",
      "2022-11-12 15:20:22.292074: I tensorflow/core/grappler/optimizers/custom_graph_optimizer_registry.cc:114] Plugin optimizer for device_type GPU is enabled.\n"
     ]
    },
    {
     "name": "stdout",
     "output_type": "stream",
     "text": [
      "1563/1563 [==============================] - 32s 18ms/step - loss: 1.7402 - mean_absolute_error: 0.1482 - accuracy: 0.3687\n",
      "Epoch 2/10\n",
      "1563/1563 [==============================] - 29s 18ms/step - loss: 1.5038 - mean_absolute_error: 0.1332 - accuracy: 0.4541\n",
      "Epoch 3/10\n",
      "1563/1563 [==============================] - 29s 18ms/step - loss: 1.4134 - mean_absolute_error: 0.1264 - accuracy: 0.4881\n",
      "Epoch 4/10\n",
      "1563/1563 [==============================] - 29s 19ms/step - loss: 1.3604 - mean_absolute_error: 0.1223 - accuracy: 0.5093\n",
      "Epoch 5/10\n",
      "1563/1563 [==============================] - 29s 18ms/step - loss: 1.3227 - mean_absolute_error: 0.1189 - accuracy: 0.5243\n",
      "Epoch 6/10\n",
      "1563/1563 [==============================] - 29s 18ms/step - loss: 1.2851 - mean_absolute_error: 0.1162 - accuracy: 0.5410\n",
      "Epoch 7/10\n",
      "1563/1563 [==============================] - 29s 18ms/step - loss: 1.2439 - mean_absolute_error: 0.1127 - accuracy: 0.5569\n",
      "Epoch 8/10\n",
      "1563/1563 [==============================] - 29s 19ms/step - loss: 1.2133 - mean_absolute_error: 0.1104 - accuracy: 0.5665\n",
      "Epoch 9/10\n",
      "1563/1563 [==============================] - 31s 20ms/step - loss: 1.1867 - mean_absolute_error: 0.1081 - accuracy: 0.5774\n",
      "Epoch 10/10\n",
      "1563/1563 [==============================] - 33s 21ms/step - loss: 1.1686 - mean_absolute_error: 0.1064 - accuracy: 0.5840\n"
     ]
    },
    {
     "data": {
      "text/plain": [
       "<keras.callbacks.History at 0x295701de0>"
      ]
     },
     "execution_count": 6,
     "metadata": {},
     "output_type": "execute_result"
    }
   ],
   "source": [
    "model = LeNet5()\n",
    "\n",
    "model.compile(optimizer=\"adam\", loss=[\"categorical_crossentropy\"], metrics=[[\"mean_absolute_error\"], [\"accuracy\"]])\n",
    "model.fit({\n",
    "    \"image\": x_train\n",
    "}, y_train, epochs=10)"
   ]
  },
  {
   "cell_type": "code",
   "execution_count": null,
   "metadata": {},
   "outputs": [],
   "source": []
  }
 ],
 "metadata": {
  "kernelspec": {
   "display_name": "Python 3.10.8 64-bit",
   "language": "python",
   "name": "python3"
  },
  "language_info": {
   "codemirror_mode": {
    "name": "ipython",
    "version": 3
   },
   "file_extension": ".py",
   "mimetype": "text/x-python",
   "name": "python",
   "nbconvert_exporter": "python",
   "pygments_lexer": "ipython3",
   "version": "3.10.8"
  },
  "orig_nbformat": 4,
  "vscode": {
   "interpreter": {
    "hash": "b0fa6594d8f4cbf19f97940f81e996739fb7646882a419484c72d19e05852a7e"
   }
  }
 },
 "nbformat": 4,
 "nbformat_minor": 2
}
