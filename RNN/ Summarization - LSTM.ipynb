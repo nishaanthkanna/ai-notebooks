{
 "cells": [
  {
   "cell_type": "code",
   "execution_count": 2,
   "metadata": {},
   "outputs": [],
   "source": [
    "import torch\n",
    "from torch import nn\n",
    "import torchtext\n",
    "from torch.utils.data import DataLoader\n",
    "from torchtext.data.utils import get_tokenizer\n",
    "from torch.utils.data import DataLoader, BatchSampler, RandomSampler\n",
    "import pandas as pd\n",
    "import numpy as np\n",
    "from tqdm import tqdm\n"
   ]
  },
  {
   "cell_type": "code",
   "execution_count": 3,
   "metadata": {},
   "outputs": [],
   "source": [
    "# Custom DataPiper\n",
    "\n",
    "train_data = pd.read_csv(\"data/cnn_dailymail/train.csv\")\n",
    "train_data"
   ]
  },
  {
   "cell_type": "markdown",
   "metadata": {},
   "source": [
    "Need to design an encoder-decoder architecture and summarize text by mapping article and highlights"
   ]
  },
  {
   "cell_type": "code",
   "execution_count": 11,
   "metadata": {},
   "outputs": [
    {
     "name": "stderr",
     "output_type": "stream",
     "text": [
      "/opt/homebrew/Cellar/python@3.10/3.10.8/Frameworks/Python.framework/Versions/3.10/lib/python3.10/site-packages/torchtext/data/utils.py:105: UserWarning: Spacy model \"en\" could not be loaded, trying \"en_core_web_sm\" instead\n",
      "  warnings.warn(\n"
     ]
    }
   ],
   "source": [
    "def yield_tokens(data_iter):\n",
    "    for text in data_iter:\n",
    "        yield tokenizer(text)\n",
    "tokenizer = get_tokenizer('spacy')\n",
    "embed = torchtext.vocab.GloVe(\"6B\", 100)"
   ]
  },
  {
   "cell_type": "code",
   "execution_count": 12,
   "metadata": {},
   "outputs": [],
   "source": [
    "vocab = torchtext.vocab.build_vocab_from_iterator(yield_tokens(train_data['article'].values), specials=[\"<unk>\"])\n",
    "vocab.set_default_index(vocab[\"<unk>\"])"
   ]
  },
  {
   "cell_type": "code",
   "execution_count": null,
   "metadata": {},
   "outputs": [],
   "source": [
    "article_pipeline = lambda x: vocab(tokenizer(x))\n",
    "highlight_pipeline = lambda x: vocab(tokenizer(x))"
   ]
  },
  {
   "cell_type": "code",
   "execution_count": null,
   "metadata": {},
   "outputs": [],
   "source": [
    "from torch.utils.data import DataLoader\n",
    "device = torch.device(\"cuda\" if torch.cuda.is_available() else \"cpu\")\n",
    "\n",
    "def collate_batch(batch):\n",
    "     highlight_list, article_list = [], []\n",
    "     for (_highlight, _article) in batch:\n",
    "          highlight_list.append(highlight_pipeline(_highlight))\n",
    "          p_text = torch.tensor(article_pipeline(_article.lower()), dtype=torch.int64)\n",
    "          article_list.append(p_text)\n",
    "     # Pad text documents with lower than the max seq. length of the batch\n",
    "     article_list = torch.nn.utils.rnn.pad_sequence(article_list, batch_first=True)\n",
    "     highlight_list = torch.tensor(highlight_list, dtype=torch.float32).reshape(-1, 1)\n",
    "     return highlight_list.to(device), article_list.to(device)\n"
   ]
  },
  {
   "cell_type": "code",
   "execution_count": null,
   "metadata": {},
   "outputs": [],
   "source": [
    "class ThisIsCNN(torch.utils.data.Dataset):\n",
    "    def __init__(self, data):\n",
    "        self._articles = data['article'].values\n",
    "        self._highlights = data['highlight'].values\n",
    "    \n",
    "    def __len__(self):\n",
    "        return self.articles.shape[0]\n",
    "    \n",
    "    def __getitem__(self, idx):\n",
    "\n",
    "        _article = self._articles[idx]\n",
    "        _highlight = self._highlights[idx]\n",
    "\n",
    "        return _highlight, _article"
   ]
  },
  {
   "cell_type": "code",
   "execution_count": null,
   "metadata": {},
   "outputs": [],
   "source": [
    "class Encoder(nn.Module):\n",
    "    def __init__(self, embedding_vector) -> None:\n",
    "        super(Encoder, self).__init__()\n",
    "\n",
    "        self.embed = torch.nn.Embedding.from_pretrained(embedding_vector, freeze=True)\n",
    "\n",
    "        self.rnn = nn.LSTM(input_size=100, hidden_size=100, num_layers=2, batch_first=True, bidirectional=True)\n",
    "        self.relu = nn.ReLU()\n",
    "        self.fc1 = nn.Linear(200, 1)\n",
    "        self.sigmoid = nn.Sigmoid()\n",
    "\n",
    "    def forward(self, x):\n",
    "        x = self.embed(x)\n",
    "        \n",
    "        _, (hidden,_) = self.rnn(x)\n",
    "\n",
    "        # Picking only the values of the forward and backward layer(bidirectional) of hidden output\n",
    "        hidden = torch.cat((hidden[-2,:,:], hidden[-1,:,:]), dim = -1)\n",
    "        logits = self.fc1(hidden)\n",
    "\n",
    "        probs = self.sigmoid(logits)\n",
    "\n",
    "        return logits, probs"
   ]
  }
 ],
 "metadata": {
  "kernelspec": {
   "display_name": "Python 3.10.8 64-bit",
   "language": "python",
   "name": "python3"
  },
  "language_info": {
   "codemirror_mode": {
    "name": "ipython",
    "version": 3
   },
   "file_extension": ".py",
   "mimetype": "text/x-python",
   "name": "python",
   "nbconvert_exporter": "python",
   "pygments_lexer": "ipython3",
   "version": "3.10.8"
  },
  "orig_nbformat": 4,
  "vscode": {
   "interpreter": {
    "hash": "6ecdebf77f2ee3a47348d003f751c63e810ca996c1c68d1179f338200fa83b34"
   }
  }
 },
 "nbformat": 4,
 "nbformat_minor": 2
}
