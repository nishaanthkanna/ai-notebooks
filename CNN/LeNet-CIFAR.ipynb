{
 "cells": [
  {
   "cell_type": "code",
   "execution_count": 1,
   "metadata": {},
   "outputs": [],
   "source": [
    "import torch\n",
    "from torch import nn\n",
    "import sys\n",
    "sys.path.insert(0, \"..\")\n",
    "from helper import train, test\n",
    "from data import get_dataloader\n",
    "import torch.nn.functional as F\n",
    "from time import time"
   ]
  },
  {
   "cell_type": "code",
   "execution_count": 2,
   "metadata": {},
   "outputs": [],
   "source": [
    "device = \"cuda\" if torch.cuda.is_available() else \"mps\""
   ]
  },
  {
   "cell_type": "markdown",
   "metadata": {},
   "source": [
    "# LeNet-5\n",
    "![LeNet-5](https://cdn.analyticsvidhya.com/wp-content/uploads/2021/03/Screenshot-from-2021-03-18-12-52-17.png)\n",
    "\n",
    "*We are multiplying all the channels and number of neurons by 3, since the first LeNet was built on grayscale images and CIFAR10 is RGB.*"
   ]
  },
  {
   "cell_type": "code",
   "execution_count": 3,
   "metadata": {},
   "outputs": [],
   "source": [
    "class LeNet5(nn.Module):\n",
    "    def __init__(self):\n",
    "        super(LeNet5, self).__init__()\n",
    "        \n",
    "        self.feature_extractor = nn.Sequential(\n",
    "            nn.Conv2d(in_channels=3, out_channels=6*3, kernel_size=5, stride=1),\n",
    "            nn.Tanh(),\n",
    "            nn.AvgPool2d(kernel_size=2),\n",
    "            nn.Conv2d(in_channels=6*3, out_channels=16*3, kernel_size=5, stride=1),\n",
    "            nn.Tanh(),\n",
    "            nn.AvgPool2d(kernel_size=2),\n",
    "            nn.Conv2d(in_channels=16*3, out_channels=120*3, kernel_size=5, stride=1),\n",
    "            nn.Tanh()\n",
    "        )\n",
    "        \n",
    "        self.classifier = nn.Sequential(\n",
    "            nn.Linear(in_features=120*3, out_features=84*3),\n",
    "            nn.Tanh(),\n",
    "            nn.Linear(in_features=84*3, out_features=10)\n",
    "        )\n",
    "        \n",
    "\n",
    "    def forward(self, x):\n",
    "        \n",
    "        x = self.feature_extractor(x)\n",
    "        x = torch.flatten(x, 1)\n",
    "        logits = self.classifier(x)\n",
    "        probs = F.softmax(logits, dim=1)\n",
    "        return logits"
   ]
  },
  {
   "cell_type": "code",
   "execution_count": 5,
   "metadata": {},
   "outputs": [
    {
     "name": "stdout",
     "output_type": "stream",
     "text": [
      "Downloading https://www.cs.toronto.edu/~kriz/cifar-10-python.tar.gz to data/cifar-10-python.tar.gz\n"
     ]
    },
    {
     "name": "stderr",
     "output_type": "stream",
     "text": [
      "100.0%\n"
     ]
    },
    {
     "name": "stdout",
     "output_type": "stream",
     "text": [
      "Extracting data/cifar-10-python.tar.gz to data\n",
      "Files already downloaded and verified\n",
      "Epoch 1\n",
      "---\n",
      "loss: 2.303998  [    0/50000]\n",
      "loss: 1.818795  [ 6400/50000]\n",
      "loss: 1.603588  [12800/50000]\n",
      "loss: 1.666484  [19200/50000]\n",
      "loss: 1.841048  [25600/50000]\n",
      "loss: 1.821961  [32000/50000]\n",
      "loss: 1.853914  [38400/50000]\n",
      "loss: 1.601500  [44800/50000]\n",
      "Train Error: \n",
      " Accuracy: 37.2%\n",
      "Test Error: \n",
      " Accuracy: 41.8%, Avg loss: 1.642597 \n",
      "\n",
      "Epoch 2\n",
      "---\n",
      "loss: 1.629886  [    0/50000]\n",
      "loss: 1.487332  [ 6400/50000]\n",
      "loss: 1.377378  [12800/50000]\n",
      "loss: 1.478075  [19200/50000]\n",
      "loss: 1.554031  [25600/50000]\n",
      "loss: 1.682760  [32000/50000]\n",
      "loss: 1.644889  [38400/50000]\n",
      "loss: 1.487047  [44800/50000]\n",
      "Train Error: \n",
      " Accuracy: 45.3%\n",
      "Test Error: \n",
      " Accuracy: 48.4%, Avg loss: 1.448469 \n",
      "\n",
      "Epoch 3\n",
      "---\n",
      "loss: 1.502871  [    0/50000]\n",
      "loss: 1.358214  [ 6400/50000]\n",
      "loss: 1.184022  [12800/50000]\n",
      "loss: 1.434438  [19200/50000]\n",
      "loss: 1.385777  [25600/50000]\n",
      "loss: 1.511878  [32000/50000]\n",
      "loss: 1.557158  [38400/50000]\n",
      "loss: 1.372005  [44800/50000]\n",
      "Train Error: \n",
      " Accuracy: 50.9%\n",
      "Test Error: \n",
      " Accuracy: 51.9%, Avg loss: 1.346993 \n",
      "\n",
      "Epoch 4\n",
      "---\n",
      "loss: 1.410208  [    0/50000]\n"
     ]
    }
   ],
   "source": [
    "# get the data\n",
    "train_dl, test_dl = get_dataloader(\"cifar\", batch_size=64)\n",
    "# Training the model\n",
    "model = LeNet5().to(device)\n",
    "\n",
    "loss_fn = nn.CrossEntropyLoss()\n",
    "optimizer = torch.optim.Adam(model.parameters(), lr=3e-4)\n",
    "\n",
    "epochs = 10\n",
    "start = time()\n",
    "for t in range(epochs):\n",
    "    print(f\"Epoch {t+1}\\n---\")\n",
    "    train(train_dl, model, loss_fn, optimizer, device)\n",
    "    test(test_dl, model, loss_fn, device)\n",
    "print(f\"Total time taken: {(time()-start):>0.1f} seconds\")\n",
    "    \n"
   ]
  }
 ],
 "metadata": {
  "kernelspec": {
   "display_name": "Python 3.10.8 64-bit",
   "language": "python",
   "name": "python3"
  },
  "language_info": {
   "codemirror_mode": {
    "name": "ipython",
    "version": 3
   },
   "file_extension": ".py",
   "mimetype": "text/x-python",
   "name": "python",
   "nbconvert_exporter": "python",
   "pygments_lexer": "ipython3",
   "version": "3.10.8"
  },
  "orig_nbformat": 4,
  "vscode": {
   "interpreter": {
    "hash": "6ecdebf77f2ee3a47348d003f751c63e810ca996c1c68d1179f338200fa83b34"
   }
  }
 },
 "nbformat": 4,
 "nbformat_minor": 2
}
