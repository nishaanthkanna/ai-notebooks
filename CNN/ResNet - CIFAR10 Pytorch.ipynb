{
 "cells": [
  {
   "cell_type": "code",
   "execution_count": 1,
   "metadata": {},
   "outputs": [],
   "source": [
    "import tensorflow as tf"
   ]
  },
  {
   "cell_type": "markdown",
   "metadata": {},
   "source": [
    "# ResNet\n",
    "![ResNet](https://www.researchgate.net/publication/349646156/figure/fig4/AS:995806349897731@1614430143429/The-architecture-of-ResNet-50-vd-a-Stem-block-b-Stage1-Block1-c-Stage1-Block2.png)\n",
    "\n",
    "\n",
    "![ResNEt](ResNet.png)\n",
    "*Implemented a scalable version so can do ResNet-18, ResNet-50 and ResNet-152"
   ]
  },
  {
   "cell_type": "code",
   "execution_count": 2,
   "metadata": {},
   "outputs": [],
   "source": [
    "class SmallBlock(tf.keras.Model):\n",
    "\n",
    "    def __init__(self, filter, reduce=False) -> None:\n",
    "        super().__init__()\n",
    "        self.stride = 1\n",
    "        # implement a block with two layers and a residual connection\n",
    "        if reduce:\n",
    "            self.stride = 2\n",
    "            self.conv1x1 = tf.keras.layers.Conv2D(filters=filter, kernel_size=1, strides=self.stride)\n",
    "        self.conv1 = tf.keras.layers.Conv2D(filters=filter, kernel_size=3, strides=self.stride, padding=\"same\", activation=\"relu\")\n",
    "        self.bn1 = tf.keras.layers.BatchNormalization()\n",
    "\n",
    "        self.conv2 = tf.keras.layers.Conv2D(filters=filter, kernel_size=3, strides=1, padding=\"same\", activation=\"relu\")\n",
    "        self.bn2 = tf.keras.layers.BatchNormalization()\n",
    "\n",
    "        self.relu = tf.keras.layers.ReLU()\n",
    "\n",
    "    def __call__(self, inputs, training=False):\n",
    "        # reduce size by half if skip connection connects with less filters\n",
    "        if (self.stride == 2):\n",
    "            residual = self.conv1x1(inputs)\n",
    "        else:\n",
    "            residual = inputs\n",
    "        x = self.conv1(inputs)\n",
    "        x = self.bn1(x)\n",
    "        x = self.conv2(x)\n",
    "        x = self.bn2(x)\n",
    "        output = tf.keras.layers.add([x, residual])\n",
    "        return self.relu(output)\n",
    "\n",
    "class BottleneckBlock(tf.keras.Model):\n",
    "\n",
    "    def __init__(self, filters, reduce=False) -> None:\n",
    "        super().__init__()\n",
    "        stride = 2 if reduce else 1\n",
    "        \n",
    "        self.conv1 = tf.keras.layers.Conv2D(filters=filters, kernel_size=1, strides=self.stride, activation=\"relu\")\n",
    "        self.bn1 = tf.keras.layers.BatchNormalization()\n",
    "\n",
    "        self.conv2 = tf.keras.layers.Conv2D(filters=filters, kernel_size=3, strides=1, padding=\"same\", activation=\"relu\")\n",
    "        self.bn2 = tf.keras.layers.BatchNormalization()\n",
    "\n",
    "        self.conv3 = tf.keras.layers.Conv2D(filters=filters * 4, kernel_size=1, strides=1, activation=\"relu\")\n",
    "        self.bn3 = tf.keras.layers.BatchNormalization()\n",
    "\n",
    "        self.relu = tf.keras.layers.ReLU()\n",
    " \n",
    "        self.conv1x1 = tf.keras.layers.Conv2d(filters=filters, kernel_size=1, strides=stride)\n",
    "        self.relu = tf.keras.layers.ReLU()\n",
    "\n",
    "    def __call__(self, inputs, training=False):\n",
    "        residual = inputs\n",
    "\n",
    "        x = self.conv1(inputs)\n",
    "        x = self.bn1(x)\n",
    "\n",
    "        x = self.conv1(x)\n",
    "        x = self.bn2(x)\n",
    "\n",
    "        x = self.conv3(x)\n",
    "        x = self.bn3(x)\n",
    "\n",
    "        x = self.conv1x1(x)\n",
    "        output = tf.keras.layers.add([x + residual])\n",
    "\n",
    "        return self.relu(output)\n",
    "\n",
    "\n",
    "class ResNet(tf.keras.Model):\n",
    "    \n",
    "    def __init__(self, bottleneck = True ,layers = [4, 4, 4, 4]):\n",
    "        \n",
    "        super(ResNet, self).__init__()\n",
    "\n",
    "        if not bottleneck:\n",
    "            resnet = [tf.keras.layers.Conv2D(filters=64, kernel_size=3, strides=1, padding=\"same\", activation=\"relu\")]\n",
    "            filter = 64\n",
    "            reduce = False\n",
    "            for layer in layers:\n",
    "                for _ in range(layer):\n",
    "                    resnet.append(SmallBlock(filter, reduce))\n",
    "                    reduce = False\n",
    "                filter = filter * 2\n",
    "                reduce = True\n",
    "            \n",
    "            resnet.append(tf.keras.layers.AvgPool2D(pool_size=3, strides=1))\n",
    "            self.resnet = resnet\n",
    "            self.classifier = tf.keras.Sequential([\n",
    "                tf.keras.layers.Dense(units=2048, activation=\"relu\"),\n",
    "                tf.keras.layers.Dense(units=1024, activation=\"relu\"),\n",
    "                tf.keras.layers.Dense(units=10, activation=\"softmax\")\n",
    "            ])\n",
    "        else:\n",
    "            # layers greater than 34\n",
    "            resnet = [tf.keras.layers.Conv2D(filters=64, kernel_size=3, strides=1, padding=\"same\", activation=\"relu\")]\n",
    "            reduce=False\n",
    "            in_channel = 64\n",
    "            first_channel = 64\n",
    "            out_channel = 256\n",
    "            for layer in layers:\n",
    "                for _ in range(layer):\n",
    "                    resnet.append(BottleneckBlock(first_channel ,in_channel, out_channel, reduce=reduce))\n",
    "                    first_channel = out_channel\n",
    "                    reduce=False\n",
    "                reduce=True\n",
    "                in_channel = in_channel * 2\n",
    "                out_channel = out_channel * 2\n",
    "            \n",
    "            # resnet.append(tf.keras.layers.AvgPool2D(pool_size=3, strides=1))\n",
    "            self.resnet = resnet\n",
    "            self.classifier = tf.keras.layers.Sequential([\n",
    "                tf.keras.layers.Dense(units=4096, activation=\"relu\"),\n",
    "                tf.keras.layers.Dense(units=2048, activation=\"relu\"),\n",
    "                tf.keras.layers.Dense(units=10, activation=\"softmax\")\n",
    "            ])\n",
    "\n",
    "\n",
    "    def __call__(self, inputs, training=False):\n",
    "        x = inputs[\"image\"]\n",
    "        for block in self.resnet:\n",
    "            x = block(x)\n",
    "        x = tf.keras.layers.Flatten()(x)\n",
    "        logits = self.classifier(x)\n",
    "        return logits\n",
    "        \n"
   ]
  },
  {
   "cell_type": "code",
   "execution_count": 3,
   "metadata": {},
   "outputs": [],
   "source": [
    "(x_train, y_train), (x_test, y_test) = tf.keras.datasets.cifar10.load_data()\n",
    "x_train = x_train.astype('float32')\n",
    "x_test = x_test.astype('float32')\n",
    "y_train = tf.keras.utils.to_categorical(y_train)\n",
    "y_test = tf.keras.utils.to_categorical(y_test)"
   ]
  },
  {
   "cell_type": "code",
   "execution_count": 4,
   "metadata": {},
   "outputs": [
    {
     "name": "stdout",
     "output_type": "stream",
     "text": [
      "Metal device set to: Apple M1\n",
      "\n",
      "systemMemory: 8.00 GB\n",
      "maxCacheSize: 2.67 GB\n",
      "\n"
     ]
    },
    {
     "name": "stderr",
     "output_type": "stream",
     "text": [
      "2022-11-12 22:24:00.978313: I tensorflow/core/common_runtime/pluggable_device/pluggable_device_factory.cc:306] Could not identify NUMA node of platform GPU ID 0, defaulting to 0. Your kernel may not have been built with NUMA support.\n",
      "2022-11-12 22:24:00.978596: I tensorflow/core/common_runtime/pluggable_device/pluggable_device_factory.cc:272] Created TensorFlow device (/job:localhost/replica:0/task:0/device:GPU:0 with 0 MB memory) -> physical PluggableDevice (device: 0, name: METAL, pci bus id: <undefined>)\n"
     ]
    },
    {
     "name": "stdout",
     "output_type": "stream",
     "text": [
      "Epoch 1/10\n"
     ]
    },
    {
     "name": "stderr",
     "output_type": "stream",
     "text": [
      "2022-11-12 22:24:01.890521: W tensorflow/core/platform/profile_utils/cpu_utils.cc:128] Failed to get CPU frequency: 0 Hz\n",
      "2022-11-12 22:24:04.470062: I tensorflow/core/grappler/optimizers/custom_graph_optimizer_registry.cc:114] Plugin optimizer for device_type GPU is enabled.\n"
     ]
    },
    {
     "name": "stdout",
     "output_type": "stream",
     "text": [
      "1563/1563 [==============================] - 439s 278ms/step - loss: 2.4122 - mean_absolute_error: 0.1442 - accuracy: 0.3949\n",
      "Epoch 2/10\n",
      " 573/1563 [=========>....................] - ETA: 5:40 - loss: 1.2624 - mean_absolute_error: 0.1178 - accuracy: 0.5401"
     ]
    },
    {
     "ename": "",
     "evalue": "",
     "output_type": "error",
     "traceback": [
      "\u001b[1;31mThe Kernel crashed while executing code in the the current cell or a previous cell. Please review the code in the cell(s) to identify a possible cause of the failure. Click <a href='https://aka.ms/vscodeJupyterKernelCrash'>here</a> for more info. View Jupyter <a href='command:jupyter.viewOutput'>log</a> for further details."
     ]
    },
    {
     "ename": "",
     "evalue": "",
     "output_type": "error",
     "traceback": [
      "\u001b[1;31mCanceled future for execute_request message before replies were done"
     ]
    }
   ],
   "source": [
    "model = ResNet(bottleneck=False, layers=[3, 4, 6, 3])\n",
    "\n",
    "model.compile(optimizer=tf.keras.optimizers.Adam(learning_rate=3e-4), loss=[\"categorical_crossentropy\"], metrics=[[\"mean_absolute_error\"], [\"accuracy\"]])\n",
    "\n",
    "model.fit({\n",
    "    \"image\": x_train\n",
    "}, y_train, epochs=10)\n"
   ]
  }
 ],
 "metadata": {
  "kernelspec": {
   "display_name": "Python 3.10.8 64-bit",
   "language": "python",
   "name": "python3"
  },
  "language_info": {
   "codemirror_mode": {
    "name": "ipython",
    "version": 3
   },
   "file_extension": ".py",
   "mimetype": "text/x-python",
   "name": "python",
   "nbconvert_exporter": "python",
   "pygments_lexer": "ipython3",
   "version": "3.10.8"
  },
  "vscode": {
   "interpreter": {
    "hash": "b0fa6594d8f4cbf19f97940f81e996739fb7646882a419484c72d19e05852a7e"
   }
  }
 },
 "nbformat": 4,
 "nbformat_minor": 2
}
