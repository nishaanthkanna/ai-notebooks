{
 "cells": [
  {
   "cell_type": "code",
   "execution_count": 2,
   "metadata": {},
   "outputs": [],
   "source": [
    "import tensorflow as tf"
   ]
  },
  {
   "cell_type": "markdown",
   "metadata": {},
   "source": [
    "# ResNet\n",
    "![ResNet](https://www.researchgate.net/publication/349646156/figure/fig4/AS:995806349897731@1614430143429/The-architecture-of-ResNet-50-vd-a-Stem-block-b-Stage1-Block1-c-Stage1-Block2.png)\n",
    "\n",
    "\n",
    "![ResNEt](ResNet.png)\n",
    "*Implemented a scalable version so can do ResNet-18, ResNet-50 and ResNet-152"
   ]
  },
  {
   "cell_type": "code",
   "execution_count": 16,
   "metadata": {},
   "outputs": [],
   "source": [
    "class SmallBlock(tf.keras.Model):\n",
    "\n",
    "    def __init__(self, in_channels, out_channels) -> None:\n",
    "        super().__init__()\n",
    "        self.stride = 1\n",
    "        # implement a block with two layers and a residual connection\n",
    "        if in_channels != out_channels:\n",
    "            self.stride = 2\n",
    "            self.conv1x1 = tf.keras.layers.Conv2D(filters=out_channels, kernel_size=1, strides=self.stride)\n",
    "        self.conv1 = tf.keras.layers.Conv2D(filters=out_channels, kernel_size=3, strides=self.stride, padding=\"same\", activation=\"relu\")\n",
    "        self.bn1 = tf.keras.layers.BatchNormalization()\n",
    "\n",
    "        self.conv2 = tf.keras.layers.Conv2D(filters=out_channels, kernel_size=3, strides=1, padding=\"same\", activation=\"relu\")\n",
    "        self.bn2 = tf.keras.layers.BatchNormalization()\n",
    "\n",
    "        self.relu = tf.keras.layers.ReLU()\n",
    "\n",
    "    def _call__(self, input):\n",
    "        # reduce size by half if skip connection connects with less filters\n",
    "        if (self.stride == 2):\n",
    "            residual = self.conv1x1(input)\n",
    "        else:\n",
    "            residual = input\n",
    "        x = self.conv1(input)\n",
    "        x = self.bn1(x)\n",
    "        x = self.conv2(x)\n",
    "        x = self.bn2(x)\n",
    "        output = tf.keras.layers.add([x, residual])\n",
    "        return self.relu(output)\n",
    "\n",
    "class BottleneckBlock(tf.keras.Model):\n",
    "\n",
    "    def __init__(self, filters, reduce=False) -> None:\n",
    "        super().__init__()\n",
    "        stride = 2 if reduce else 1\n",
    "        \n",
    "        self.conv1 = tf.keras.layers.Conv2D(filters=filters, kernel_size=1, strides=self.stride, activation=\"relu\")\n",
    "        self.bn1 = tf.keras.layers.BatchNormalization()\n",
    "\n",
    "        self.conv2 = tf.keras.layers.Conv2D(filters=filters, kernel_size=3, strides=1, padding=\"same\", activation=\"relu\")\n",
    "        self.bn2 = tf.keras.layers.BatchNormalization()\n",
    "\n",
    "        self.conv3 = tf.keras.layers.Conv2D(filters=filters * 4, kernel_size=1, strides=1, activation=\"relu\")\n",
    "        self.bn3 = tf.keras.layers.BatchNormalization()\n",
    "\n",
    "        self.relu = tf.keras.layers.ReLU()\n",
    " \n",
    "        self.conv1x1 = tf.keras.layers.Conv2d(filters=filters, kernel_size=1, strides=stride)\n",
    "        self.relu = tf.keras.layers.ReLU()\n",
    "\n",
    "    def __call__(self, input):\n",
    "        residual = input\n",
    "\n",
    "        x = self.conv1(input)\n",
    "        x = self.bn1(x)\n",
    "\n",
    "        x = self.conv1(x)\n",
    "        x = self.bn2(x)\n",
    "\n",
    "        x = self.conv3(x)\n",
    "        x = self.bn3(x)\n",
    "\n",
    "        x = self.conv1x1(x)\n",
    "        output = tf.keras.layers.add([x + residual])\n",
    "\n",
    "        return self.relu(output)\n",
    "\n",
    "\n",
    "class ResNet(tf.keras.Model):\n",
    "    \n",
    "    def __init__(self, bottleneck = True ,layers = [4, 4, 4, 4]):\n",
    "        \n",
    "        super(ResNet, self).__init__()\n",
    "\n",
    "        if not bottleneck:\n",
    "            resnet = [tf.keras.layers.Conv2D(filters=64, kernel_size=3, strides=1, padding=\"same\", activation=\"relu\")]\n",
    "            in_channel = 64\n",
    "            out_channel = 64\n",
    "            for layer in layers:\n",
    "                for _ in range(layer):\n",
    "                    resnet.append(SmallBlock(in_channel, out_channel))\n",
    "                out_channel = in_channel * 2\n",
    "            \n",
    "            resnet.append(tf.keras.layers.AvgPool2D(pool_size=3, strides=1))\n",
    "            self.resnet = tf.keras.layers.Sequential(*resnet)\n",
    "\n",
    "            self.classifier = tf.keras.layers.Sequential(\n",
    "                tf.keras.layers.Dense(units=2048, activation=\"relu\"),\n",
    "                tf.keras.layers.Dense(units=1024, activation=\"relu\"),\n",
    "                tf.keras.layers.Dense(units=10, activation=\"softmax\")\n",
    "            )\n",
    "        else:\n",
    "            # layers greater than 34\n",
    "            resnet = [tf.keras.layers.Conv2D(filters=64, kernel_size=3, strides=1, padding=\"same\", activation=\"relu\")]\n",
    "            reduce=False\n",
    "            in_channel = 64\n",
    "            first_channel = 64\n",
    "            out_channel = 256\n",
    "            for layer in layers:\n",
    "                for _ in range(layer):\n",
    "                    resnet.append(BottleneckBlock(first_channel ,in_channel, out_channel, reduce=reduce))\n",
    "                    first_channel = out_channel\n",
    "                    reduce=False\n",
    "                reduce=True\n",
    "                in_channel = in_channel * 2\n",
    "                out_channel = out_channel * 2\n",
    "            \n",
    "            resnet.append(tf.keras.layers.AvgPool2D(pool_size=3, strides=1))\n",
    "            self.resnet = tf.keras.layers.Sequential(*resnet)\n",
    "\n",
    "            self.classifier = tf.keras.layers.Sequential(\n",
    "                tf.keras.layers.Dense(units=4096, activation=\"relu\"),\n",
    "                tf.keras.layers.Dense(units=2048, activation=\"relu\"),\n",
    "                tf.keras.layers.Dense(units=10, activation=\"softmax\")\n",
    "            )\n",
    "\n",
    "\n",
    "    def forward(self, x):\n",
    "        \n",
    "        x = self.resnet(x)\n",
    "        x = tf.keras.layers.Flatten()(x)\n",
    "        logits = self.classifier(x)\n",
    "        return logits\n",
    "        \n"
   ]
  },
  {
   "cell_type": "code",
   "execution_count": 17,
   "metadata": {},
   "outputs": [],
   "source": [
    "(x_train, y_train), (x_test, y_test) = tf.keras.datasets.cifar10.load_data()\n",
    "x_train = x_train.astype('float32')\n",
    "x_test = x_test.astype('float32')\n",
    "y_train = tf.keras.utils.to_categorical(y_train)\n",
    "y_test = tf.keras.utils.to_categorical(y_test)"
   ]
  },
  {
   "cell_type": "code",
   "execution_count": 18,
   "metadata": {},
   "outputs": [
    {
     "ename": "AttributeError",
     "evalue": "module 'keras.api._v2.keras.layers' has no attribute 'Sequential'",
     "output_type": "error",
     "traceback": [
      "\u001b[0;31m---------------------------------------------------------------------------\u001b[0m",
      "\u001b[0;31mAttributeError\u001b[0m                            Traceback (most recent call last)",
      "Cell \u001b[0;32mIn [18], line 1\u001b[0m\n\u001b[0;32m----> 1\u001b[0m model \u001b[39m=\u001b[39m ResNet(bottleneck\u001b[39m=\u001b[39;49m\u001b[39mFalse\u001b[39;49;00m, layers\u001b[39m=\u001b[39;49m[\u001b[39m3\u001b[39;49m, \u001b[39m4\u001b[39;49m, \u001b[39m6\u001b[39;49m, \u001b[39m3\u001b[39;49m])\n\u001b[1;32m      3\u001b[0m model\u001b[39m.\u001b[39mcompile(optimizer\u001b[39m=\u001b[39mtf\u001b[39m.\u001b[39mkeras\u001b[39m.\u001b[39moptimizers\u001b[39m.\u001b[39mAdam(learning_rate\u001b[39m=\u001b[39m\u001b[39m3e-4\u001b[39m), loss\u001b[39m=\u001b[39m[\u001b[39m\"\u001b[39m\u001b[39mcategorical_crossentropy\u001b[39m\u001b[39m\"\u001b[39m], metrics\u001b[39m=\u001b[39m[[\u001b[39m\"\u001b[39m\u001b[39mmean_absolute_error\u001b[39m\u001b[39m\"\u001b[39m], [\u001b[39m\"\u001b[39m\u001b[39maccuracy\u001b[39m\u001b[39m\"\u001b[39m]])\n\u001b[1;32m      4\u001b[0m model\u001b[39m.\u001b[39mfit({\n\u001b[1;32m      5\u001b[0m     \u001b[39m\"\u001b[39m\u001b[39mimage\u001b[39m\u001b[39m\"\u001b[39m: x_train\n\u001b[1;32m      6\u001b[0m }, y_train, epochs\u001b[39m=\u001b[39m\u001b[39m10\u001b[39m)\n",
      "Cell \u001b[0;32mIn [16], line 85\u001b[0m, in \u001b[0;36mResNet.__init__\u001b[0;34m(self, bottleneck, layers)\u001b[0m\n\u001b[1;32m     82\u001b[0m         out_channel \u001b[39m=\u001b[39m in_channel \u001b[39m*\u001b[39m \u001b[39m2\u001b[39m\n\u001b[1;32m     84\u001b[0m     resnet\u001b[39m.\u001b[39mappend(tf\u001b[39m.\u001b[39mkeras\u001b[39m.\u001b[39mlayers\u001b[39m.\u001b[39mAvgPool2D(pool_size\u001b[39m=\u001b[39m\u001b[39m3\u001b[39m, strides\u001b[39m=\u001b[39m\u001b[39m1\u001b[39m))\n\u001b[0;32m---> 85\u001b[0m     \u001b[39mself\u001b[39m\u001b[39m.\u001b[39mresnet \u001b[39m=\u001b[39m tf\u001b[39m.\u001b[39;49mkeras\u001b[39m.\u001b[39;49mlayers\u001b[39m.\u001b[39;49mSequential(\u001b[39m*\u001b[39mresnet)\n\u001b[1;32m     87\u001b[0m     \u001b[39mself\u001b[39m\u001b[39m.\u001b[39mclassifier \u001b[39m=\u001b[39m tf\u001b[39m.\u001b[39mkeras\u001b[39m.\u001b[39mlayers\u001b[39m.\u001b[39mSequential(\n\u001b[1;32m     88\u001b[0m         tf\u001b[39m.\u001b[39mkeras\u001b[39m.\u001b[39mlayers\u001b[39m.\u001b[39mDense(units\u001b[39m=\u001b[39m\u001b[39m2048\u001b[39m, activation\u001b[39m=\u001b[39m\u001b[39m\"\u001b[39m\u001b[39mrelu\u001b[39m\u001b[39m\"\u001b[39m),\n\u001b[1;32m     89\u001b[0m         tf\u001b[39m.\u001b[39mkeras\u001b[39m.\u001b[39mlayers\u001b[39m.\u001b[39mDense(units\u001b[39m=\u001b[39m\u001b[39m1024\u001b[39m, activation\u001b[39m=\u001b[39m\u001b[39m\"\u001b[39m\u001b[39mrelu\u001b[39m\u001b[39m\"\u001b[39m),\n\u001b[1;32m     90\u001b[0m         tf\u001b[39m.\u001b[39mkeras\u001b[39m.\u001b[39mlayers\u001b[39m.\u001b[39mDense(units\u001b[39m=\u001b[39m\u001b[39m10\u001b[39m, activation\u001b[39m=\u001b[39m\u001b[39m\"\u001b[39m\u001b[39msoftmax\u001b[39m\u001b[39m\"\u001b[39m)\n\u001b[1;32m     91\u001b[0m     )\n\u001b[1;32m     92\u001b[0m \u001b[39melse\u001b[39;00m:\n\u001b[1;32m     93\u001b[0m     \u001b[39m# layers greater than 34\u001b[39;00m\n",
      "\u001b[0;31mAttributeError\u001b[0m: module 'keras.api._v2.keras.layers' has no attribute 'Sequential'"
     ]
    }
   ],
   "source": [
    "model = ResNet(bottleneck=False, layers=[3, 4, 6, 3])\n",
    "\n",
    "model.compile(optimizer=tf.keras.optimizers.Adam(learning_rate=3e-4), loss=[\"categorical_crossentropy\"], metrics=[[\"mean_absolute_error\"], [\"accuracy\"]])\n",
    "model.fit({\n",
    "    \"image\": x_train\n",
    "}, y_train, epochs=10)"
   ]
  },
  {
   "cell_type": "code",
   "execution_count": null,
   "metadata": {},
   "outputs": [],
   "source": []
  },
  {
   "cell_type": "code",
   "execution_count": null,
   "metadata": {},
   "outputs": [],
   "source": []
  }
 ],
 "metadata": {
  "kernelspec": {
   "display_name": "Python 3.10.8 64-bit",
   "language": "python",
   "name": "python3"
  },
  "language_info": {
   "codemirror_mode": {
    "name": "ipython",
    "version": 3
   },
   "file_extension": ".py",
   "mimetype": "text/x-python",
   "name": "python",
   "nbconvert_exporter": "python",
   "pygments_lexer": "ipython3",
   "version": "3.10.8"
  },
  "vscode": {
   "interpreter": {
    "hash": "b0fa6594d8f4cbf19f97940f81e996739fb7646882a419484c72d19e05852a7e"
   }
  }
 },
 "nbformat": 4,
 "nbformat_minor": 2
}
